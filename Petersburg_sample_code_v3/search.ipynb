{
 "cells": [
  {
   "cell_type": "code",
   "execution_count": 5,
   "metadata": {},
   "outputs": [],
   "source": [
    "# Loading dataset\n",
    "import pandas as pd\n",
    "\n",
    "\n",
    "def load(dataset):\n",
    "    X = pd.read_csv('../data/%s' % dataset + '/%s_train.data' % dataset, header=None, sep=' ')\n",
    "    # For unknown for me reason, X is read with last column filled with NaN\n",
    "    X.drop(X.columns[[-1]], axis=1, inplace=True)\n",
    "    Y = pd.read_csv('../data/%s' % dataset + '/%s_train.solution' % dataset, header=None, sep=' ')[0]\n",
    "    return X, Y"
   ]
  },
  {
   "cell_type": "code",
   "execution_count": 7,
   "metadata": {},
   "outputs": [],
   "source": [
    "import sklearn\n",
    "from sklearn.ensemble import RandomForestClassifier, ExtraTreesClassifier\n",
    "from sklearn.pipeline import Pipeline\n",
    "from sklearn.feature_selection import SelectPercentile\n",
    "\n",
    "from libscores import bac_cv\n",
    "from classifier import eliminate_features\n",
    "\n",
    "\n",
    "def bruteforce(X, Y):\n",
    "    \"\"\"Performs brute force search for given datates\"\"\"\n",
    "    best_model = None\n",
    "    max_bac = 0\n",
    "    reports = {}\n",
    "\n",
    "    for p in [5, 10, 25]:\n",
    "        for e in [100, 200, 300]:\n",
    "            M = Pipeline([\n",
    "                ('feature_selection', SelectPercentile(percentile=p, score_func=sklearn.feature_selection.f_classif)),\n",
    "                ('classification', RandomForestClassifier(n_estimators=e, random_state=1, n_jobs=-1))\n",
    "            ]).fit(X, Y)\n",
    "            bac = bac_cv(M, X, Y)\n",
    "            reports[\"SELECT+RF percentile=%d\" % p + \" n_estimators=%d\" % e] = bac\n",
    "            if bac > max_bac:\n",
    "                max_bac = bac\n",
    "                best_model = M        \n",
    "\n",
    "    for p in [5, 10, 25]:\n",
    "        for e in [100, 200, 300]:\n",
    "            M = Pipeline([\n",
    "                ('feature_selection', SelectPercentile(percentile=p, score_func=sklearn.feature_selection.f_classif)),\n",
    "                ('classification', ExtraTreesClassifier(n_estimators=e, n_jobs=-1, max_depth=None, min_samples_split=1, random_state=1))\n",
    "            ]).fit(X, Y)\n",
    "            bac = bac_cv(M, X, Y)\n",
    "            reports[\"SELECT+RF percentile=%d\" % p + \" n_estimators=%d\" % e] = bac\n",
    "            if bac > max_bac:\n",
    "                max_bac = bac\n",
    "                best_model = M\n",
    "\n",
    "    for f in [5, 10, 20]:\n",
    "        for e in [100, 200, 300]:\n",
    "            X_new = X[eliminate_features(X, Y, f)]\n",
    "            M = Pipeline([\n",
    "                ('classification', RandomForestClassifier(n_estimators=e, random_state=1, n_jobs=-1))\n",
    "            ]).fit(X_new, Y)\n",
    "            bac = bac_cv(M, X_new, Y)\n",
    "            reports[\"SELECT+RF percentile=%d\" % p + \" n_estimators=%d\" % e] = bac\n",
    "            if bac > max_bac:\n",
    "                max_bac = bac\n",
    "                best_model = M\n",
    "\n",
    "    for f in [5, 10, 20]:\n",
    "        for e in [100, 200, 300]:\n",
    "            X_new = X[eliminate_features(X, Y, f)]\n",
    "            M = Pipeline([\n",
    "                ('classification', ExtraTreesClassifier(n_estimators=e, n_jobs=-1, max_depth=None, min_samples_split=1, random_state=1))\n",
    "            ]).fit(X_new, Y)\n",
    "            bac = bac_cv(M, X_new, Y)\n",
    "            reports[\"SELECT+RF percentile=%d\" % p + \" n_estimators=%d\" % e] = bac\n",
    "            if bac > max_bac:\n",
    "                max_bac = bac\n",
    "                best_model = M\n",
    "\n",
    "    print \"Best BAC %f\" % max_bac\n",
    "    print \"BEST model %s\" % max(reports, key=reports.get)\n",
    "    return best_model\n",
    "\n"
   ]
  },
  {
   "cell_type": "code",
   "execution_count": null,
   "metadata": {},
   "outputs": [],
   "source": [
    "%%time\n",
    "for name in [\"christine\", \"jasmine\", \"madeline\", \"philippine\", \"sylvine\"]:\n",
    "    print \"Loading %s\" % name\n",
    "    X, Y = load(name)\n",
    "    bruteforce(X, Y)"
   ]
  },
  {
   "cell_type": "code",
   "execution_count": null,
   "metadata": {},
   "outputs": [],
   "source": [
    ""
   ]
  }
 ],
 "metadata": {
  "kernelspec": {
   "display_name": "Python 2",
   "language": "python",
   "name": "python2"
  },
  "language_info": {
   "codemirror_mode": {
    "name": "ipython",
    "version": 2.0
   },
   "file_extension": ".py",
   "mimetype": "text/x-python",
   "name": "python",
   "nbconvert_exporter": "python",
   "pygments_lexer": "ipython2",
   "version": "2.7.10"
  }
 },
 "nbformat": 4,
 "nbformat_minor": 0
}
{
 "cells": [
  {
   "cell_type": "code",
   "execution_count": 1,
   "metadata": {},
   "outputs": [],
   "source": [
    "# Loading dataset\n",
    "import pandas as pd\n",
    "\n",
    "\n",
    "def load(dataset):\n",
    "    X = pd.read_csv('../data/%s' % dataset + '/%s_train.data' % dataset, header=None, sep=' ')\n",
    "    # For unknown for me reason, X is read with last column filled with NaN\n",
    "    X.drop(X.columns[[-1]], axis=1, inplace=True)\n",
    "    Y = pd.read_csv('../data/%s' % dataset + '/%s_train.solution' % dataset, header=None, sep=' ')[0]\n",
    "    return X, Y"
   ]
  },
  {
   "cell_type": "code",
   "execution_count": 4,
   "metadata": {},
   "outputs": [],
   "source": [
    "from math import sqrt\n",
    "import sklearn\n",
    "from sklearn.ensemble import RandomForestClassifier, ExtraTreesClassifier\n",
    "from sklearn.pipeline import Pipeline\n",
    "from sklearn.feature_selection import SelectPercentile\n",
    "from libscores import auc_cv\n",
    "from libscores import bac_cv\n",
    "from classifier import eliminate_features\n",
    "\n",
    "\n",
    "def rf_model(x, y, p, e):\n",
    "    return Pipeline([\n",
    "        ('feature_selection', SelectPercentile(percentile=p, score_func=sklearn.feature_selection.f_classif)),\n",
    "        ('classification', RandomForestClassifier(n_estimators=e, random_state=1, n_jobs=-1))\n",
    "    ]).fit(x, y)\n",
    "\n",
    "\n",
    "def et_model(x, y, p, e):\n",
    "    return Pipeline([\n",
    "        ('feature_selection', SelectPercentile(percentile=p, score_func=sklearn.feature_selection.f_classif)),\n",
    "        ('classification', ExtraTreesClassifier(n_estimators=e, n_jobs=-1, max_depth=None, random_state=1))\n",
    "    ]).fit(x, y)\n",
    "\n",
    "\n",
    "def optimize(X, Y):\n",
    "    \"\"\"Performs optimization for given dataset\"\"\"\n",
    "    best_model = None\n",
    "    max_metrics = 0\n",
    "    reports = {}\n",
    "\n",
    "    if name in [\"christine\", \"jasmine\", \"madeline\", \"philippine\", \"sylvine\"]:\n",
    "        metrics_function = bac_cv\n",
    "    else:\n",
    "        metrics_function = auc_cv\n",
    "\n",
    "    # Eliminate features to sqrt(len(X)), or number of observations, in case of small datasets\n",
    "    indexes = eliminate_features(X, Y, min(sqrt(len(X)), 2 * len(X[0])))\n",
    "    Xi = X[indexes]\n",
    "    \n",
    "    for p in [5, 10, 15, 20, 25, 30, 35, 40, 45, 50]:\n",
    "        for e in [100, 200, 300]:\n",
    "            M = rf_model(Xi, Y, p, e)\n",
    "            r = metrics_function(M, Xi, Y)\n",
    "            reports[\"SELECT+RF percentile=%d\" % p + \" n_estimators=%d\" % e] = r\n",
    "            if r > max_metrics:\n",
    "                max_metrics = r\n",
    "                best_model = M\n",
    "\n",
    "    for p in [5, 10, 15, 20, 25, 30, 35, 40, 45, 50]:\n",
    "        for e in [100, 200, 300]:\n",
    "            M = et_model(Xi, Y, p, e)\n",
    "            r = metrics_function(M, Xi, Y)\n",
    "            reports[\"SELECT+RF percentile=%d\" % p + \" n_estimators=%d\" % e] = r\n",
    "            if r > max_metrics:\n",
    "                max_metrics = r\n",
    "                best_model = M\n",
    "\n",
    "    print \"Best metrics %f\" % max_metrics\n",
    "    print \"BEST model %s\" % max(reports, key=reports.get)\n",
    "    return best_model, Xi, indexes"
   ]
  },
  {
   "cell_type": "code",
   "execution_count": null,
   "metadata": {},
   "outputs": [
    {
     "name": "stdout",
     "output_type": "stream",
     "text": [
      "PROCESSING jasmine\n"
     ]
    }
   ],
   "source": [
    "%%time\n",
    "for name in [\"jasmine\", \"madeline\", \"philippine\", \"sylvine\"]:\n",
    "    print \"PROCESSING %s\" % name\n",
    "    X, Y = load(name)\n",
    "    optimize(X, Y)"
   ]
  },
  {
   "cell_type": "code",
   "execution_count": null,
   "metadata": {},
   "outputs": [],
   "source": [
    ""
   ]
  }
 ],
 "metadata": {
  "kernelspec": {
   "display_name": "Python 2",
   "language": "python",
   "name": "python2"
  },
  "language_info": {
   "codemirror_mode": {
    "name": "ipython",
    "version": 2.0
   },
   "file_extension": ".py",
   "mimetype": "text/x-python",
   "name": "python",
   "nbconvert_exporter": "python",
   "pygments_lexer": "ipython2",
   "version": "2.7.10"
  }
 },
 "nbformat": 4,
 "nbformat_minor": 0
}
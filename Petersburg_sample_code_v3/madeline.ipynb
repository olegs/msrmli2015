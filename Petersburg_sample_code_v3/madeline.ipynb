{
 "cells": [
  {
   "cell_type": "code",
   "execution_count": 87,
   "metadata": {},
   "outputs": [],
   "source": [
    "from sklearn.cross_validation import cross_val_score\n",
    "def cv(M, X, Y):\n",
    "    # Process cross validation\n",
    "    scores = cross_val_score(M, X, Y, cv=10, n_jobs=-1)\n",
    "    print(\"SCORE %f\" % scores.mean())"
   ]
  },
  {
   "cell_type": "code",
   "execution_count": 88,
   "metadata": {},
   "outputs": [
    {
     "data": {
      "text/html": [
       "<div>\n",
       "<table border=\"1\" class=\"dataframe\">\n",
       "  <thead>\n",
       "    <tr style=\"text-align: right;\">\n",
       "      <th></th>\n",
       "      <th>0</th>\n",
       "      <th>1</th>\n",
       "      <th>2</th>\n",
       "      <th>3</th>\n",
       "      <th>4</th>\n",
       "      <th>5</th>\n",
       "      <th>6</th>\n",
       "      <th>7</th>\n",
       "      <th>8</th>\n",
       "      <th>9</th>\n",
       "      <th>...</th>\n",
       "      <th>249</th>\n",
       "      <th>250</th>\n",
       "      <th>251</th>\n",
       "      <th>252</th>\n",
       "      <th>253</th>\n",
       "      <th>254</th>\n",
       "      <th>255</th>\n",
       "      <th>256</th>\n",
       "      <th>257</th>\n",
       "      <th>258</th>\n",
       "    </tr>\n",
       "  </thead>\n",
       "  <tbody>\n",
       "    <tr>\n",
       "      <th>0</th>\n",
       "      <td>466</td>\n",
       "      <td>482</td>\n",
       "      <td>468</td>\n",
       "      <td>478</td>\n",
       "      <td>500</td>\n",
       "      <td>475</td>\n",
       "      <td>473</td>\n",
       "      <td>508</td>\n",
       "      <td>513</td>\n",
       "      <td>478</td>\n",
       "      <td>...</td>\n",
       "      <td>526</td>\n",
       "      <td>522</td>\n",
       "      <td>424</td>\n",
       "      <td>405</td>\n",
       "      <td>469</td>\n",
       "      <td>442</td>\n",
       "      <td>493</td>\n",
       "      <td>505</td>\n",
       "      <td>482</td>\n",
       "      <td>479</td>\n",
       "    </tr>\n",
       "    <tr>\n",
       "      <th>1</th>\n",
       "      <td>477</td>\n",
       "      <td>495</td>\n",
       "      <td>502</td>\n",
       "      <td>519</td>\n",
       "      <td>480</td>\n",
       "      <td>473</td>\n",
       "      <td>471</td>\n",
       "      <td>496</td>\n",
       "      <td>509</td>\n",
       "      <td>477</td>\n",
       "      <td>...</td>\n",
       "      <td>495</td>\n",
       "      <td>529</td>\n",
       "      <td>483</td>\n",
       "      <td>470</td>\n",
       "      <td>475</td>\n",
       "      <td>434</td>\n",
       "      <td>495</td>\n",
       "      <td>560</td>\n",
       "      <td>479</td>\n",
       "      <td>477</td>\n",
       "    </tr>\n",
       "    <tr>\n",
       "      <th>2</th>\n",
       "      <td>453</td>\n",
       "      <td>531</td>\n",
       "      <td>476</td>\n",
       "      <td>487</td>\n",
       "      <td>493</td>\n",
       "      <td>481</td>\n",
       "      <td>475</td>\n",
       "      <td>497</td>\n",
       "      <td>505</td>\n",
       "      <td>477</td>\n",
       "      <td>...</td>\n",
       "      <td>496</td>\n",
       "      <td>478</td>\n",
       "      <td>529</td>\n",
       "      <td>562</td>\n",
       "      <td>469</td>\n",
       "      <td>469</td>\n",
       "      <td>531</td>\n",
       "      <td>438</td>\n",
       "      <td>481</td>\n",
       "      <td>476</td>\n",
       "    </tr>\n",
       "    <tr>\n",
       "      <th>3</th>\n",
       "      <td>514</td>\n",
       "      <td>484</td>\n",
       "      <td>437</td>\n",
       "      <td>488</td>\n",
       "      <td>464</td>\n",
       "      <td>471</td>\n",
       "      <td>464</td>\n",
       "      <td>471</td>\n",
       "      <td>486</td>\n",
       "      <td>479</td>\n",
       "      <td>...</td>\n",
       "      <td>468</td>\n",
       "      <td>463</td>\n",
       "      <td>474</td>\n",
       "      <td>409</td>\n",
       "      <td>446</td>\n",
       "      <td>533</td>\n",
       "      <td>502</td>\n",
       "      <td>453</td>\n",
       "      <td>484</td>\n",
       "      <td>469</td>\n",
       "    </tr>\n",
       "    <tr>\n",
       "      <th>4</th>\n",
       "      <td>487</td>\n",
       "      <td>491</td>\n",
       "      <td>516</td>\n",
       "      <td>497</td>\n",
       "      <td>486</td>\n",
       "      <td>484</td>\n",
       "      <td>486</td>\n",
       "      <td>462</td>\n",
       "      <td>506</td>\n",
       "      <td>474</td>\n",
       "      <td>...</td>\n",
       "      <td>487</td>\n",
       "      <td>508</td>\n",
       "      <td>482</td>\n",
       "      <td>622</td>\n",
       "      <td>506</td>\n",
       "      <td>521</td>\n",
       "      <td>481</td>\n",
       "      <td>466</td>\n",
       "      <td>473</td>\n",
       "      <td>485</td>\n",
       "    </tr>\n",
       "  </tbody>\n",
       "</table>\n",
       "<p>5 rows × 259 columns</p>\n",
       "</div>"
      ]
     },
     "output_type": "execute_result",
     "metadata": {}
    }
   ],
   "source": [
    "X = pd.read_csv('../data/madeline/madeline_train.data', header=None, sep=' ')\n",
    "# For unknown for me reason, X is read with last column filled with NaN\n",
    "X.drop(X.columns[[-1]], axis=1, inplace=True)\n",
    "X.head(5)"
   ]
  },
  {
   "cell_type": "code",
   "execution_count": 89,
   "metadata": {},
   "outputs": [
    {
     "data": {
      "text/plain": [
       "0    1\n",
       "1    1\n",
       "2    0\n",
       "3    0\n",
       "4    0\n",
       "Name: 0, dtype: int64"
      ]
     },
     "execution_count": 89,
     "output_type": "execute_result",
     "metadata": {}
    }
   ],
   "source": [
    "Y = pd.read_csv('../data/madeline/madeline_train.solution', header=None, sep=' ')[0]\n",
    "Y.head(5)"
   ]
  },
  {
   "cell_type": "code",
   "execution_count": 10,
   "metadata": {},
   "outputs": [
    {
     "name": "stdout",
     "output_type": "stream",
     "text": [
      "SCORE 0.883772\n"
     ]
    }
   ],
   "source": [
    "# Best score so far 5 perc f_classif + RF 200 = 0.883772\n",
    "import sklearn\n",
    "from sklearn.ensemble import RandomForestClassifier\n",
    "from sklearn.pipeline import Pipeline\n",
    "from sklearn.feature_selection import SelectPercentile\n",
    "\n",
    "# Learn model\n",
    "M = Pipeline([\n",
    "    ('feature_selection', SelectPercentile(percentile=5, score_func=sklearn.feature_selection.f_classif)),\n",
    "    ('classification', RandomForestClassifier(n_estimators=200, random_state=1, n_jobs=-1))\n",
    "]).fit(X, Y)\n",
    "\n",
    "# Perform cross validation\n",
    "cv(M, X, Y)"
   ]
  },
  {
   "cell_type": "code",
   "execution_count": null,
   "metadata": {},
   "outputs": [],
   "source": [
    ""
   ]
  }
 ],
 "metadata": {
  "kernelspec": {
   "display_name": "Python 2",
   "language": "python",
   "name": "python2"
  },
  "language_info": {
   "codemirror_mode": {
    "name": "ipython",
    "version": 2.0
   },
   "file_extension": ".py",
   "mimetype": "text/x-python",
   "name": "python",
   "nbconvert_exporter": "python",
   "pygments_lexer": "ipython2",
   "version": "2.7.10"
  }
 },
 "nbformat": 4,
 "nbformat_minor": 0
}